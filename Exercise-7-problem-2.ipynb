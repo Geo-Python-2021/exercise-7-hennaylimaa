{
 "cells": [
  {
   "cell_type": "markdown",
   "metadata": {
    "deletable": false,
    "editable": false,
    "nbgrader": {
     "cell_type": "markdown",
     "checksum": "8af6b81a30b64784ea0840cee6da99cb",
     "grade": false,
     "grade_id": "cell-293dda8f8456c85b",
     "locked": true,
     "schema_version": 3,
     "solution": false,
     "task": false
    }
   },
   "source": [
    "## Problem 2 - Plotting temperatures (7 points)\n",
    "\n",
    "In this problem we will  plot monthly mean temperatures from the Helsinki-Vantaa airpot for the past 30 years.\n",
    "\n",
    "The final output should look like this:\n",
    "![line plot](img/temp_line_plot.png)\n",
    "\n",
    "## Input data\n",
    "\n",
    "File `data/helsinki-vantaa.csv` monthly average temperatures from Helsinki Vantaa airport. Column descriptions:\n",
    "\n",
    "- `DATE`: YEAR-MONTH-DAY (the time stamp contains the first day of each month, but values in other columns are average values for the whole month!)\n",
    "- `USAF`: Station number\n",
    "- `TEMP_F`: Monthly mean temperature in Fahrenheit \n",
    "- `TEMP_C`: Monthly mean temperature in Celsius\n",
    "- `REF_TEMP_C`: Long term average in Celsius (for the period 1988-2018)\n",
    "- `DIFF_C`: Difference between monthly mean and long term average in Celsius\n",
    "\n",
    "### Tips for completing this problem\n",
    "\n",
    "- Use **exactly** the same variable names as in the instructions because your answers will be automatically graded, and the tests that grade your answers rely on following the same formatting or variable naming as in the instructions.\n",
    "- **Please do not**:\n",
    "\n",
    "    - **Change the file names**. Do all of your editing in the provided `Exercise-7-problem-2.ipynb` file (this file).\n",
    "    - **Copy/paste cells in this notebook**. We use an automated grading system that will fail if there are copies of code cells.\n",
    "    - **Change the existing cell types**. You can add cells, but changing the cell types for existing cells (from code to markdown, for example) will also cause the automated grader to fail.\n",
    "\n",
    "### Scores for this problem\n",
    "\n",
    "**Your score on this problem will be based on following criteria:**\n",
    "\n",
    "- Loading the data file and using the dates as the index\n",
    "- Selecting the data for the 30-year period as described\n",
    "- Creating a line plot of the data with the specified format\n",
    "- Adding a title and axis labels to the plot\n",
    "- Saving a copy of the plot as a PNG file and commiting it to your repo\n",
    "- Including comments that explain what most lines in the code do"
   ]
  },
  {
   "cell_type": "markdown",
   "metadata": {
    "deletable": false,
    "editable": false,
    "nbgrader": {
     "cell_type": "markdown",
     "checksum": "d86b88692f48d5dc74d83ce2953c4a4d",
     "grade": false,
     "grade_id": "cell-47f3d0687c30c2d4",
     "locked": true,
     "schema_version": 3,
     "solution": false,
     "task": false
    }
   },
   "source": [
    "### Part 1 (1 point)\n",
    "\n",
    "Load the Helsinki temperature data from the file `data/helsinki-vantaa.csv`.\n",
    "\n",
    "- Read the data into a variable called `data` using pandas\n",
    "- Parse the dates from the column `'DATE'` and set the dates as the index in the DataFrame "
   ]
  },
  {
   "cell_type": "code",
   "execution_count": 76,
   "metadata": {
    "deletable": false,
    "nbgrader": {
     "cell_type": "code",
     "checksum": "d8558b6611b41818d01522e1a9d01a1a",
     "grade": false,
     "grade_id": "problem_2_ag_p1_read_data",
     "locked": false,
     "schema_version": 3,
     "solution": true
    }
   },
   "outputs": [],
   "source": [
    "import pandas as pd\n",
    "# reading the csv file to df\n",
    "data = pd.read_csv('~/work/exercises/exercise-7-hennaylimaa/data/helsinki-vantaa.csv')\n",
    "\n",
    "# converts date column to datetime\n",
    "data['DATE'] = pd.to_datetime(data.DATE)\n",
    "# removes useless day parts from date\n",
    "data['DATE'] = data['DATE'].dt.strftime('%Y-%m')\n",
    "\n",
    "# sorts column date so it is in time order from 1952 to 2019\n",
    "data = data.sort_values('DATE')\n",
    "\n",
    "# sets date as index of dataframe\n",
    "data = data.set_index('DATE')"
   ]
  },
  {
   "cell_type": "code",
   "execution_count": 77,
   "metadata": {
    "deletable": false,
    "editable": false,
    "nbgrader": {
     "cell_type": "code",
     "checksum": "beb719b8c69665fd00f7a3c49563ac1d",
     "grade": true,
     "grade_id": "problem_2_ag_p1_read_data_test1",
     "locked": true,
     "points": 0.5,
     "schema_version": 3,
     "solution": false
    }
   },
   "outputs": [
    {
     "name": "stdout",
     "output_type": "stream",
     "text": [
      "            USAF     TEMP_F    TEMP_C  REF_TEMP_C    DIFF_C\n",
      "DATE                                                       \n",
      "1952-01  29740.0  28.347826 -2.028986   -4.936650  2.907665\n",
      "1952-02  29740.0  24.910714 -3.938492   -5.656795  1.718303\n",
      "1952-03  29740.0  14.319328 -9.822596   -1.881240 -7.941355\n",
      "1952-04  29740.0  39.364407  4.091337    3.927530  0.163807\n",
      "1952-05  29740.0  44.932773  7.184874   10.421878 -3.237004\n"
     ]
    }
   ],
   "source": [
    "# This test print should print first five rows\n",
    "print(data.head())"
   ]
  },
  {
   "cell_type": "code",
   "execution_count": 78,
   "metadata": {
    "deletable": false,
    "editable": false,
    "nbgrader": {
     "cell_type": "code",
     "checksum": "193efae6faf5bd62ac3a9e4d978f609b",
     "grade": true,
     "grade_id": "problem_2_ag_p1_read_data_test2",
     "locked": true,
     "points": 0.5,
     "schema_version": 3,
     "solution": false,
     "task": false
    }
   },
   "outputs": [
    {
     "name": "stdout",
     "output_type": "stream",
     "text": [
      "706\n"
     ]
    }
   ],
   "source": [
    "# Check the number of rows in the data frame\n",
    "print(len(data))"
   ]
  },
  {
   "cell_type": "markdown",
   "metadata": {
    "deletable": false,
    "editable": false,
    "nbgrader": {
     "cell_type": "markdown",
     "checksum": "c6cac81349abe86918a2ae1d687da65f",
     "grade": false,
     "grade_id": "cell-97cb58eda54e413d",
     "locked": true,
     "schema_version": 3,
     "solution": false
    }
   },
   "source": [
    "### Part 2 (2 points)\n",
    "\n",
    "Select data for the 30-year period (January 1988 to December 2018).\n",
    "\n",
    "- Store the selection in a new variable `selection`"
   ]
  },
  {
   "cell_type": "code",
   "execution_count": 79,
   "metadata": {
    "deletable": false,
    "nbgrader": {
     "cell_type": "code",
     "checksum": "2247c524419564c72b50dbb41a2228eb",
     "grade": false,
     "grade_id": "problem_2_ag_p2_select_data",
     "locked": false,
     "schema_version": 3,
     "solution": true
    }
   },
   "outputs": [],
   "source": [
    "# selects from 1988-01 to 2018-12 from dataframes index column date, this can be done because df is sorted before\n",
    "selection = data.loc['1988-01' : '2018-12']"
   ]
  },
  {
   "cell_type": "code",
   "execution_count": 80,
   "metadata": {
    "deletable": false,
    "editable": false,
    "nbgrader": {
     "cell_type": "code",
     "checksum": "05473fe56472596759ac4ef31b550e9f",
     "grade": true,
     "grade_id": "problem_2_ag_p2_select_data_test1",
     "locked": true,
     "points": 1,
     "schema_version": 3,
     "solution": false
    }
   },
   "outputs": [
    {
     "data": {
      "text/html": [
       "<div>\n",
       "<style scoped>\n",
       "    .dataframe tbody tr th:only-of-type {\n",
       "        vertical-align: middle;\n",
       "    }\n",
       "\n",
       "    .dataframe tbody tr th {\n",
       "        vertical-align: top;\n",
       "    }\n",
       "\n",
       "    .dataframe thead th {\n",
       "        text-align: right;\n",
       "    }\n",
       "</style>\n",
       "<table border=\"1\" class=\"dataframe\">\n",
       "  <thead>\n",
       "    <tr style=\"text-align: right;\">\n",
       "      <th></th>\n",
       "      <th>USAF</th>\n",
       "      <th>TEMP_F</th>\n",
       "      <th>TEMP_C</th>\n",
       "      <th>REF_TEMP_C</th>\n",
       "      <th>DIFF_C</th>\n",
       "    </tr>\n",
       "    <tr>\n",
       "      <th>DATE</th>\n",
       "      <th></th>\n",
       "      <th></th>\n",
       "      <th></th>\n",
       "      <th></th>\n",
       "      <th></th>\n",
       "    </tr>\n",
       "  </thead>\n",
       "  <tbody>\n",
       "    <tr>\n",
       "      <th>1988-01</th>\n",
       "      <td>29740.0</td>\n",
       "      <td>27.404003</td>\n",
       "      <td>-2.553332</td>\n",
       "      <td>-4.936650</td>\n",
       "      <td>2.383318</td>\n",
       "    </tr>\n",
       "    <tr>\n",
       "      <th>1988-02</th>\n",
       "      <td>29740.0</td>\n",
       "      <td>24.830299</td>\n",
       "      <td>-3.983167</td>\n",
       "      <td>-5.656795</td>\n",
       "      <td>1.673628</td>\n",
       "    </tr>\n",
       "    <tr>\n",
       "      <th>1988-03</th>\n",
       "      <td>29740.0</td>\n",
       "      <td>26.399381</td>\n",
       "      <td>-3.111455</td>\n",
       "      <td>-1.881240</td>\n",
       "      <td>-1.230215</td>\n",
       "    </tr>\n",
       "    <tr>\n",
       "      <th>1988-04</th>\n",
       "      <td>29740.0</td>\n",
       "      <td>34.909643</td>\n",
       "      <td>1.616468</td>\n",
       "      <td>3.927530</td>\n",
       "      <td>-2.311061</td>\n",
       "    </tr>\n",
       "    <tr>\n",
       "      <th>1988-05</th>\n",
       "      <td>29740.0</td>\n",
       "      <td>53.832024</td>\n",
       "      <td>12.128902</td>\n",
       "      <td>10.421878</td>\n",
       "      <td>1.707024</td>\n",
       "    </tr>\n",
       "  </tbody>\n",
       "</table>\n",
       "</div>"
      ],
      "text/plain": [
       "            USAF     TEMP_F     TEMP_C  REF_TEMP_C    DIFF_C\n",
       "DATE                                                        \n",
       "1988-01  29740.0  27.404003  -2.553332   -4.936650  2.383318\n",
       "1988-02  29740.0  24.830299  -3.983167   -5.656795  1.673628\n",
       "1988-03  29740.0  26.399381  -3.111455   -1.881240 -1.230215\n",
       "1988-04  29740.0  34.909643   1.616468    3.927530 -2.311061\n",
       "1988-05  29740.0  53.832024  12.128902   10.421878  1.707024"
      ]
     },
     "execution_count": 80,
     "metadata": {},
     "output_type": "execute_result"
    }
   ],
   "source": [
    "# Check that the data was read in correctly:\n",
    "selection.head()"
   ]
  },
  {
   "cell_type": "code",
   "execution_count": 81,
   "metadata": {
    "deletable": false,
    "editable": false,
    "nbgrader": {
     "cell_type": "code",
     "checksum": "b25d8d22216a32e97012ea1d0b6d4a66",
     "grade": true,
     "grade_id": "problem_2_ag_p2_select_data_test2",
     "locked": true,
     "points": 1,
     "schema_version": 3,
     "solution": false
    }
   },
   "outputs": [
    {
     "name": "stdout",
     "output_type": "stream",
     "text": [
      "Number of rows: 372\n"
     ]
    }
   ],
   "source": [
    "# Check how many rows of data you selected:\n",
    "print(f'Number of rows: {len(selection)}')"
   ]
  },
  {
   "cell_type": "markdown",
   "metadata": {
    "deletable": false,
    "editable": false,
    "nbgrader": {
     "cell_type": "markdown",
     "checksum": "be6f493465cd1ac184ad5a77e11e41d9",
     "grade": false,
     "grade_id": "cell-322ca8ec0694eac9",
     "locked": true,
     "schema_version": 3,
     "solution": false
    }
   },
   "source": [
    "### Part 3 (4 points)\n",
    "\n",
    "#### Part 3.1\n",
    "\n",
    "Create a line plot that displays the temperatures (`TEMP_C`) for each month in the 30-year time period with the following format:\n",
    "     \n",
    "- Set the figure size\n",
    "\n",
    "    - Create a figure object and use the `figsize` parameter. \n",
    "    - The example figure uses `figsize=(14,6)` (you can experiment with other figure sizes if you like!)\n",
    "\n",
    "- Adjust the line style\n",
    "\n",
    "    - solid line \n",
    "    - black color\n",
    "    - round markers\n",
    "     \n",
    "- Add a title and axis labels\n",
    "\n",
    "    - Title: `'Helsinki-Vantaa Airport'` \n",
    "    - X-label: `'Time'`\n",
    "    - Y-label: `'Temperature (Celsius)'`\n",
    "\n",
    "#### Part 3.2\n",
    "\n",
    "Save your figure as PNG file called `temp_line_plot.png`."
   ]
  },
  {
   "cell_type": "code",
   "execution_count": null,
   "metadata": {
    "deletable": false,
    "nbgrader": {
     "cell_type": "code",
     "checksum": "2d93bf719226033eb1c93a201dd41a6a",
     "grade": true,
     "grade_id": "problem_2_mg_p3_plot_data",
     "locked": false,
     "points": 3,
     "schema_version": 3,
     "solution": true
    }
   },
   "outputs": [],
   "source": [
    "%matplotlib inline\n",
    "# YOUR CODE HERE\n",
    "raise NotImplementedError()\n",
    "\n",
    "# Set output file name\n",
    "outputfp = None\n",
    "\n",
    "# Save plot as image\n",
    "# YOUR CODE HERE\n",
    "raise NotImplementedError()"
   ]
  },
  {
   "cell_type": "code",
   "execution_count": null,
   "metadata": {
    "deletable": false,
    "editable": false,
    "nbgrader": {
     "cell_type": "code",
     "checksum": "6bfc8310eaab53f18570372fc48ad27d",
     "grade": true,
     "grade_id": "problem_2_ag_p3_outputfile_test1",
     "locked": true,
     "points": 1,
     "schema_version": 3,
     "solution": false,
     "task": false
    }
   },
   "outputs": [],
   "source": [
    "import os\n",
    "\n",
    "#Check that output file exists (also open the file and check that the plot looks ok!)\n",
    "os.path.exists(outputfp)"
   ]
  },
  {
   "cell_type": "markdown",
   "metadata": {
    "deletable": false,
    "editable": false,
    "nbgrader": {
     "cell_type": "markdown",
     "checksum": "7ee89f54b4864f82e7c6b6f061d17b71",
     "grade": false,
     "grade_id": "cell-d006f551c24788b6",
     "locked": true,
     "schema_version": 3,
     "solution": false
    }
   },
   "source": [
    "**REMINDER**: Don't forget to upload your figure and the modified notebook into your personal GitHub repository!\n",
    "\n",
    "### Done!"
   ]
  },
  {
   "cell_type": "markdown",
   "metadata": {
    "deletable": false,
    "editable": false,
    "nbgrader": {
     "cell_type": "markdown",
     "checksum": "fd4d9f9ed7978d6d39b5b70381c88160",
     "grade": false,
     "grade_id": "cell-f97296b534b7b10f",
     "locked": true,
     "schema_version": 3,
     "solution": false,
     "task": false
    }
   },
   "source": [
    "### Optional extra task: An interactive plot (0 points)\n",
    "\n",
    "Create an interactive version of the monthly temperatures using [Pandas Bokeh](https://github.com/PatrikHlobil/Pandas-Bokeh)!"
   ]
  },
  {
   "cell_type": "code",
   "execution_count": null,
   "metadata": {
    "deletable": false,
    "nbgrader": {
     "cell_type": "code",
     "checksum": "25914b8332595d87f15171fbf3d7ace1",
     "grade": true,
     "grade_id": "problem_2_mg_p4_import_bokeh",
     "locked": false,
     "points": 0,
     "schema_version": 3,
     "solution": true,
     "task": false
    }
   },
   "outputs": [],
   "source": [
    "# Import and enable pandas bokeh in this notebook\n",
    "\n",
    "# YOUR CODE HERE\n",
    "raise NotImplementedError()"
   ]
  },
  {
   "cell_type": "code",
   "execution_count": null,
   "metadata": {
    "deletable": false,
    "nbgrader": {
     "cell_type": "code",
     "checksum": "0e79906112fbfa51e6d682b5b93b7c1b",
     "grade": true,
     "grade_id": "problem_2_mg_p4_plot_bokeh",
     "locked": false,
     "points": 0,
     "schema_version": 3,
     "solution": true,
     "task": false
    }
   },
   "outputs": [],
   "source": [
    "# Plot an interactive visualization of the monthly temperatures. \n",
    "# Note! You might have to re-order the data before plotting.\n",
    "\n",
    "# YOUR CODE HERE\n",
    "raise NotImplementedError()\n"
   ]
  }
 ],
 "metadata": {
  "kernelspec": {
   "display_name": "Python 3 (ipykernel)",
   "language": "python",
   "name": "python3"
  },
  "language_info": {
   "codemirror_mode": {
    "name": "ipython",
    "version": 3
   },
   "file_extension": ".py",
   "mimetype": "text/x-python",
   "name": "python",
   "nbconvert_exporter": "python",
   "pygments_lexer": "ipython3",
   "version": "3.8.10"
  }
 },
 "nbformat": 4,
 "nbformat_minor": 4
}
